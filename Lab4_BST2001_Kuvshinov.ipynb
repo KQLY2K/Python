{
 "cells": [
  {
   "cell_type": "markdown",
   "id": "f9e0bce3",
   "metadata": {},
   "source": [
    "# Лабораторная работа №4\n",
    "\n",
    "## Выполнил студент группы БСТ2001 Кувшинов М.И.\n",
    "\n",
    "Реализовать следующие структуры данных:\n",
    "\n",
    "Стек (stack):\n",
    "\n",
    "операции для стека: инициализация, проверка на пустоту, добавление нового элемента в начало, извлечение элемента из начала;\n",
    "\n",
    "Дек (двусторонняя очередь, deque):\n",
    "\n",
    "операции для дека: инициализация, проверка на пустоту, добавление нового элемента в начало, добавление нового элемента в конец, извлечение элемента из начала, извлечение элемента из конца.\n",
    "\n",
    "Разработать программу обработки данных, содержащихся в заранее подготовленном txt-файле, в соответствии с заданиями, применив указанную в задании структуру данных. Результат работы программы вывести на экран и сохранить в отдельном txt-файле."
   ]
  },
  {
   "cell_type": "markdown",
   "id": "e6d39421",
   "metadata": {},
   "source": [
    "### Двухсвязный список"
   ]
  },
  {
   "cell_type": "code",
   "execution_count": 1,
   "id": "d7411291",
   "metadata": {},
   "outputs": [],
   "source": [
    "class LinkNode:\n",
    "    def __init__(self, value=None):\n",
    "        self.value = value\n",
    "        self.right = None\n",
    "        self.left = None"
   ]
  },
  {
   "cell_type": "markdown",
   "id": "12d2447a",
   "metadata": {},
   "source": [
    "### Стек"
   ]
  },
  {
   "cell_type": "code",
   "execution_count": 2,
   "id": "51f457fc",
   "metadata": {},
   "outputs": [],
   "source": [
    "class Stack:    \n",
    "    def __init__(self):\n",
    "        self.head = LinkNode()\n",
    "        self.size = 0\n",
    "\n",
    "    def is_empty(self):\n",
    "        return self.size == 0\n",
    "\n",
    "    def push(self, value):\n",
    "        if self.size > 0:\n",
    "            node = LinkNode(value)\n",
    "            node.right = self.head\n",
    "            self.head = node\n",
    "        else:\n",
    "            self.head.value = value\n",
    "        self.size += 1\n",
    "      \n",
    "    def pop(self):\n",
    "        if self.is_empty():\n",
    "            raise Exception(\"Popping from an empty stack\")\n",
    "        remove = self.head\n",
    "        if self.size > 1:\n",
    "            self.head = remove.right\n",
    "        self.size -= 1\n",
    "        return remove.value\n",
    "    \n",
    "    def peek(self):\n",
    "        if self.is_empty():\n",
    "            raise Exception(\"Popping from an empty stack\")\n",
    "        return self.head.value\n",
    "    \n",
    "    def __len__(self):\n",
    "        return self.size\n",
    "\n",
    "    def reverse(self):\n",
    "        current = self.head\n",
    "        prev = None\n",
    "        next = None\n",
    " \n",
    "        while current is not None:\n",
    "            next = current.right\n",
    "            current.right = prev\n",
    "            prev = current\n",
    "            current = next\n",
    "\n",
    "        self.head = prev"
   ]
  },
  {
   "cell_type": "markdown",
   "id": "d403e17c",
   "metadata": {},
   "source": [
    "### Дек"
   ]
  },
  {
   "cell_type": "code",
   "execution_count": 3,
   "id": "e60fd671",
   "metadata": {},
   "outputs": [],
   "source": [
    "class Deque:\n",
    "    def __init__(self):\n",
    "        self.head = LinkNode()\n",
    "        self.tail = self.head\n",
    "        self.size = 0\n",
    "    \n",
    "    def is_empty(self):\n",
    "        return self.size == 0\n",
    "\n",
    "    def push_left(self, value):\n",
    "        if self.size > 0:\n",
    "            node = LinkNode(value)\n",
    "            node.right = self.tail\n",
    "            self.tail.left = node\n",
    "            self.tail = node\n",
    "        else:\n",
    "            self.tail.value = value\n",
    "        self.size += 1\n",
    "\n",
    "    def push(self, value):\n",
    "        if self.size > 0:\n",
    "            node = LinkNode(value)\n",
    "            node.left = self.head\n",
    "            self.head.right = node\n",
    "            self.head = node\n",
    "        else:\n",
    "            self.head.value = value\n",
    "        self.size += 1\n",
    "    \n",
    "    def pop_left(self):\n",
    "        if self.is_empty():\n",
    "            raise Exception(\"Popping from an empty deque\")\n",
    "        remove = self.tail\n",
    "        if self.size > 1:\n",
    "            self.tail = remove.right\n",
    "        self.size -= 1\n",
    "        return remove.value\n",
    "    \n",
    "    def pop(self):\n",
    "        if self.is_empty():\n",
    "            raise Exception(\"Popping from an empty deque\")\n",
    "        remove = self.head\n",
    "        if self.size > 1:\n",
    "            self.head = remove.left\n",
    "        self.size -= 1\n",
    "        return remove.value\n",
    "    \n",
    "    def peek(self):\n",
    "        if self.is_empty():\n",
    "            raise Exception(\"Popping from an empty deque\")\n",
    "        return self.head.value\n",
    "    \n",
    "    def peek_left(self):\n",
    "        if self.is_empty():\n",
    "            raise Exception(\"Popping from an empty deque\")\n",
    "        return self.tail.value\n",
    "\n",
    "    def __len__(self):\n",
    "        return self.size"
   ]
  },
  {
   "cell_type": "markdown",
   "id": "8596ebc9",
   "metadata": {},
   "source": [
    "### Задание №1\n",
    "\n",
    "Отсортировать строки файла, содержащие названия книг, в алфавитном порядке с использованием двух деков."
   ]
  },
  {
   "cell_type": "code",
   "execution_count": 4,
   "id": "e4923316",
   "metadata": {},
   "outputs": [
    {
     "name": "stdout",
     "output_type": "stream",
     "text": [
      "world\n",
      "\n",
      "war\n",
      "\n",
      "scala\n",
      "\n",
      "rust\n",
      "\n",
      "peace\n",
      "\n",
      "lang\n",
      "count\n",
      "\n"
     ]
    }
   ],
   "source": [
    "with open('books.txt', 'r') as books:\n",
    "    q1 = Deque()\n",
    "    q2 = Deque()\n",
    "    for book in books:\n",
    "        q1.push(book)\n",
    "    while not q1.is_empty():\n",
    "        x = q1.pop()\n",
    "        while not q2.is_empty() and q2.peek() > x:\n",
    "            q1.push_left(q2.pop())\n",
    "        q2.push(x)\n",
    "    while not q2.is_empty():\n",
    "        print(q2.pop())"
   ]
  },
  {
   "cell_type": "markdown",
   "id": "ccaa2091",
   "metadata": {},
   "source": [
    "### Задание №2\n",
    "\n",
    "Дек содержит последовательность символов для шифровки сообщений. Дан текстовый файл, содержащий зашифрованное сообщение. Пользуясь деком, расшифровать текст. Известно, что при шифровке каждый символ сообщения заменялся следующим за ним в деке по часовой стрелке через один."
   ]
  },
  {
   "cell_type": "code",
   "execution_count": 6,
   "id": "11eeb679",
   "metadata": {},
   "outputs": [
    {
     "name": "stdout",
     "output_type": "stream",
     "text": [
      "rx'p hspx g pxwrkf xj ykvwnax\n",
      "it's just a string to encrypt\n"
     ]
    }
   ],
   "source": [
    "import random\n",
    "alphabet = list('abcdefghijklmnopqrstuvwxyz')\n",
    "random.shuffle(alphabet)\n",
    "alphabet = ''.join(alphabet)\n",
    "keyRing = Deque()\n",
    "for letter in alphabet:\n",
    "    keyRing.push(letter)\n",
    "    \n",
    "def encode_char(c):\n",
    "    for i in range(len(keyRing)):\n",
    "        x = keyRing.pop_left()\n",
    "        if x == c:\n",
    "            keyRing.push(x)\n",
    "            val = keyRing.pop_left()\n",
    "            keyRing.push(val)\n",
    "            return val\n",
    "        keyRing.push(x)\n",
    "\n",
    "def decode_char(c):\n",
    "    for i in range(len(keyRing)):\n",
    "        x = keyRing.pop()\n",
    "        if x == c:\n",
    "            keyRing.push_left(x)\n",
    "            val = keyRing.pop()\n",
    "            keyRing.push_left(val)\n",
    "            return val\n",
    "        keyRing.push_left(x)\n",
    "\n",
    "with open('letter.txt', 'r') as letters:\n",
    "    text = letters.read()\n",
    "    encoded = ''\n",
    "    for letter in text:\n",
    "        if encoded_letter := encode_char(letter):\n",
    "            encoded += encoded_letter\n",
    "        else:\n",
    "            encoded += letter\n",
    "\n",
    "    print(encoded)\n",
    "\n",
    "    decoded = ''\n",
    "    for letter in encoded:\n",
    "        if decoded_letter := decode_char(letter):\n",
    "            decoded += decoded_letter\n",
    "        else:\n",
    "            decoded += letter\n",
    "    print(decoded)"
   ]
  },
  {
   "cell_type": "markdown",
   "id": "84063c50",
   "metadata": {},
   "source": [
    "### Задание 3\n",
    "\n",
    "Даны три стержня и n дисков различного размера. Диски можно надевать на стержни, образуя из них башни. Перенести n дисков со стержня А на стержень С, сохранив их первоначальный порядок. При переносе дисков необходимо соблюдать следующие правила:\n",
    "\n",
    "на каждом шаге со стержня на стержень переносить только один диск; диск нельзя помещать на диск меньшего размера; для промежуточного хранения можно использовать стержень В. Реализовать алгоритм, используя три стека вместо стержней А, В, С. Информация о дисках хранится в исходном файле."
   ]
  },
  {
   "cell_type": "code",
   "execution_count": 7,
   "id": "59414a0c",
   "metadata": {},
   "outputs": [
    {
     "name": "stdout",
     "output_type": "stream",
     "text": [
      "1\n",
      "2\n",
      "3\n",
      "4\n",
      "5\n",
      "6\n",
      "7\n",
      "8\n",
      "9\n",
      "10\n"
     ]
    }
   ],
   "source": [
    "A = Stack()\n",
    "B = Stack()\n",
    "C = Stack()\n",
    "\n",
    "disks = 10\n",
    "\n",
    "for i in range(disks, 0, -1):\n",
    "    A.push(i)\n",
    "\n",
    "def move(a, b):\n",
    "    if len(a) == 0 and len(b) > 0:\n",
    "        a.push(b.pop())\n",
    "    elif len(a) > 0 and len(b) == 0:\n",
    "        b.push(a.pop())\n",
    "    elif a.peek() > b.peek():\n",
    "        a.push(b.pop())\n",
    "    else:\n",
    "        b.push(a.pop())\n",
    "\n",
    "if disks % 2 == 0:\n",
    "    while len(C) != disks:\n",
    "        move(A, B)\n",
    "        move(A, C)\n",
    "        move(B, C)\n",
    "else:\n",
    "    while len(C) != disks:\n",
    "        move(A, C)\n",
    "        move(A, B)\n",
    "        move(B, C)\n",
    "\n",
    "while not C.is_empty():\n",
    "    print(C.pop())"
   ]
  },
  {
   "cell_type": "markdown",
   "id": "99e562e2",
   "metadata": {},
   "source": [
    "### Задание 4\n",
    "\n",
    "Дан текстовый файл с программой на алгоритмическом языке. За один просмотр файла проверить баланс круглых скобок в тексте, используя стек."
   ]
  },
  {
   "cell_type": "code",
   "execution_count": 8,
   "id": "317711fc",
   "metadata": {},
   "outputs": [
    {
     "name": "stdout",
     "output_type": "stream",
     "text": [
      "False\n",
      "True\n"
     ]
    }
   ],
   "source": [
    "def check_brackets(string):\n",
    "    bracket_stack = Stack()\n",
    "    for i in string:\n",
    "        if i == '(':\n",
    "            bracket_stack.push(i)\n",
    "        elif i == ')':\n",
    "            if bracket_stack.is_empty():\n",
    "                return False\n",
    "            bracket_stack.pop()\n",
    "    return bracket_stack.is_empty()\n",
    "\n",
    "with open('Program4and1.txt', 'r') as pr1:\n",
    "    text = pr1.read()\n",
    "    print(check_brackets(text))\n",
    "    \n",
    "with open('Program4and2.txt', 'r') as pr2:\n",
    "    text = pr2.read()\n",
    "    print(check_brackets(text))"
   ]
  },
  {
   "cell_type": "markdown",
   "id": "1e627d7e",
   "metadata": {},
   "source": [
    "### Задание 5\n",
    "\n",
    "Дан текстовый файл с программой на алгоритмическом языке. За один просмотр файла проверить баланс квадратных скобок в тексте, используя дек."
   ]
  },
  {
   "cell_type": "code",
   "execution_count": 9,
   "id": "08235c91",
   "metadata": {},
   "outputs": [
    {
     "name": "stdout",
     "output_type": "stream",
     "text": [
      "False\n",
      "True\n"
     ]
    }
   ],
   "source": [
    "def check_square_brackets(string):\n",
    "    bracket_stack = Deque()\n",
    "    for i in string:\n",
    "        if i == '[':\n",
    "            bracket_stack.push(i)\n",
    "        elif i == ']':\n",
    "            if bracket_stack.is_empty():\n",
    "                return False\n",
    "            bracket_stack.pop()\n",
    "    return bracket_stack.is_empty()\n",
    "\n",
    "with open('Program5and1.txt', 'r') as pr1:\n",
    "    text = pr1.read()\n",
    "    print(check_square_brackets(text))\n",
    "    \n",
    "with open('Program5and2.txt', 'r') as pr2:\n",
    "    text = pr2.read()\n",
    "    print(check_square_brackets(text))"
   ]
  },
  {
   "cell_type": "markdown",
   "id": "ed666026",
   "metadata": {},
   "source": [
    "### Задание 6\n",
    "\n",
    "Дан файл из символов. Используя стек, за один просмотр файла напечатать сначала все цифры, затем все буквы, и, наконец, все остальные символы, сохраняя исходный порядок в каждой группе символов."
   ]
  },
  {
   "cell_type": "code",
   "execution_count": 10,
   "id": "a5418fd0",
   "metadata": {},
   "outputs": [
    {
     "name": "stdout",
     "output_type": "stream",
     "text": [
      "1956numberstexthey,,,\n"
     ]
    }
   ],
   "source": [
    "with open('NumbersAndSymbols.txt', 'r') as file:\n",
    "    text = file.read()\n",
    "    letters = Stack()\n",
    "    digits = Stack()\n",
    "    others = Stack()\n",
    "\n",
    "    for c in text:\n",
    "        if c.isalpha():\n",
    "            letters.push(c)\n",
    "        elif c.isdigit():\n",
    "            digits.push(c)\n",
    "        else:\n",
    "            others.push(c)\n",
    "\n",
    "    new_text = ''\n",
    "\n",
    "    letters.reverse()\n",
    "    digits.reverse()\n",
    "    others.reverse()\n",
    "\n",
    "    while not digits.is_empty():\n",
    "        new_text += digits.pop()\n",
    "\n",
    "    while not letters.is_empty():\n",
    "        new_text += letters.pop()\n",
    "\n",
    "    while not others.is_empty():\n",
    "        new_text += others.pop()\n",
    "\n",
    "    print(new_text)"
   ]
  },
  {
   "cell_type": "markdown",
   "id": "2de63528",
   "metadata": {},
   "source": [
    "### Задание 7\n",
    "\n",
    "Дан файл из целых чисел. Используя дек, за один просмотр файла напечатать сначала все отрицательные числа, затем все положительные числа, сохраняя исходный порядок в каждой группе."
   ]
  },
  {
   "cell_type": "code",
   "execution_count": 11,
   "id": "01e8c646",
   "metadata": {},
   "outputs": [
    {
     "name": "stdout",
     "output_type": "stream",
     "text": [
      "-1\n",
      "-2\n",
      "-3\n",
      "-4\n",
      "-5\n",
      "1\n",
      "2\n",
      "3\n",
      "4\n",
      "5\n"
     ]
    }
   ],
   "source": [
    "numbers = []\n",
    "with open('numbers.txt', 'r') as fp:\n",
    "    for l in fp:\n",
    "        numbers+= list(map(int, l.split()))\n",
    "\n",
    "deque = Deque()\n",
    "for n in numbers:\n",
    "    if n < 0:\n",
    "        deque.push_left(n)\n",
    "    else:\n",
    "        deque.push(n)\n",
    "\n",
    "while not deque.is_empty():\n",
    "    x = deque.pop_left()\n",
    "    if x < 0:\n",
    "        deque.push(x)\n",
    "    else:\n",
    "        deque.push_left(x)\n",
    "        break\n",
    "\n",
    "while not deque.is_empty():\n",
    "    x = deque.pop()\n",
    "    if x < 0:\n",
    "        print(x)\n",
    "    else:\n",
    "        deque.push(x)\n",
    "        break\n",
    "\n",
    "while not deque.is_empty():\n",
    "    print(deque.pop_left())"
   ]
  },
  {
   "cell_type": "markdown",
   "id": "427de51f",
   "metadata": {},
   "source": [
    "### Задание 8\n",
    "Дан текстовый файл. Используя стек, сформировать новый текстовый файл, содержащий строки исходного файла, записанные в обратном порядке: первая строка становится последней, вторая – предпоследней и т.д."
   ]
  },
  {
   "cell_type": "code",
   "execution_count": 12,
   "id": "bee60f5d",
   "metadata": {},
   "outputs": [],
   "source": [
    "stack = Stack()\n",
    "with open('books.txt', 'r') as books:  \n",
    "    for book in books:\n",
    "        book = book.strip()\n",
    "        stack.push(book)\n",
    "\n",
    "with open('books1.txt', 'w') as books1:\n",
    "    while not stack.is_empty():\n",
    "        books1.write(stack.pop())\n",
    "        books1.write(\"\\n\")"
   ]
  },
  {
   "cell_type": "code",
   "execution_count": null,
   "id": "396eb7f5",
   "metadata": {},
   "outputs": [],
   "source": []
  }
 ],
 "metadata": {
  "kernelspec": {
   "display_name": "Python 3 (ipykernel)",
   "language": "python",
   "name": "python3"
  },
  "language_info": {
   "codemirror_mode": {
    "name": "ipython",
    "version": 3
   },
   "file_extension": ".py",
   "mimetype": "text/x-python",
   "name": "python",
   "nbconvert_exporter": "python",
   "pygments_lexer": "ipython3",
   "version": "3.9.7"
  }
 },
 "nbformat": 4,
 "nbformat_minor": 5
}
