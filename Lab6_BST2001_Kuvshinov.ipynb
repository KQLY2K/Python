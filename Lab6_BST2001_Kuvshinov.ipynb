{
 "cells": [
  {
   "cell_type": "markdown",
   "id": "9d8a77a8",
   "metadata": {},
   "source": [
    "# Лабораторная работа №6\n",
    "# Сетевые алгоритмы. Динамические алгоритмы поиска путей.\n",
    "# Выполнил студент группы БСТ2001 Кувшинов М.И."
   ]
  },
  {
   "cell_type": "markdown",
   "id": "24ed80b9",
   "metadata": {},
   "source": [
    "### Задание\n",
    "1. Реализовать алгоритм поиска кратчайшего расстояния между двумя вершинами ориентированного взвешенного графа в соответствии с вариантом.\n",
    "\n",
    "2. Предусмотреть задание графа в виде матрицы смежности/инцидентности, читаемой из файла, либо графически с помощью пользовательского интерфейса.\n",
    "\n",
    "3. Разработать графический интерфейс пользователя с визуализацией графа и отображением кратчайшего расстояния между задаваемыми пользователем вершинами.\n",
    "\n",
    "4. По результатам работы проанализировать временную сложность работы заданного алгоритма в зависимости от числа узлов и ребер графа. Данные представить в виде таблицы."
   ]
  },
  {
   "cell_type": "markdown",
   "id": "4e5173e8",
   "metadata": {},
   "source": [
    "### Вариант 10 - Алгоритм Джонсона"
   ]
  },
  {
   "cell_type": "code",
   "execution_count": 12,
   "id": "4304a8f1",
   "metadata": {
    "scrolled": true
   },
   "outputs": [
    {
     "name": "stdout",
     "output_type": "stream",
     "text": [
      "Requirement already satisfied: networkx in d:\\coding\\python\\anaconda\\lib\\site-packages (2.6.3)\n",
      "Requirement already satisfied: algorithmx in d:\\coding\\python\\anaconda\\lib\\site-packages (2.0.3)\n",
      "Requirement already satisfied: matplotlib in d:\\coding\\python\\anaconda\\lib\\site-packages (3.4.3)\n",
      "Requirement already satisfied: cycler>=0.10 in d:\\coding\\python\\anaconda\\lib\\site-packages (from matplotlib) (0.10.0)\n",
      "Requirement already satisfied: numpy>=1.16 in d:\\coding\\python\\anaconda\\lib\\site-packages (from matplotlib) (1.20.3)\n",
      "Requirement already satisfied: python-dateutil>=2.7 in d:\\coding\\python\\anaconda\\lib\\site-packages (from matplotlib) (2.8.2)\n",
      "Requirement already satisfied: kiwisolver>=1.0.1 in d:\\coding\\python\\anaconda\\lib\\site-packages (from matplotlib) (1.3.1)\n",
      "Requirement already satisfied: pyparsing>=2.2.1 in d:\\coding\\python\\anaconda\\lib\\site-packages (from matplotlib) (3.0.4)\n",
      "Requirement already satisfied: pillow>=6.2.0 in d:\\coding\\python\\anaconda\\lib\\site-packages (from matplotlib) (8.4.0)\n",
      "Requirement already satisfied: six in d:\\coding\\python\\anaconda\\lib\\site-packages (from cycler>=0.10->matplotlib) (1.16.0)\n"
     ]
    }
   ],
   "source": [
    "!pip install networkx algorithmx matplotlib"
   ]
  },
  {
   "cell_type": "code",
   "execution_count": 14,
   "id": "27871ece",
   "metadata": {
    "scrolled": false
   },
   "outputs": [
    {
     "name": "stdout",
     "output_type": "stream",
     "text": [
      "Modified Graph: [[0, 0, 3, 3], [0, 0, 0, 0], [6, 0, 0, 0], [3, 0, 0, 0]]\n",
      "\n",
      "Shortest Distance with vertex 0 as the source:\n",
      "\n",
      "Vertex 0: 0\n",
      "Vertex 1: 0\n",
      "Vertex 2: 0\n",
      "Vertex 3: 0\n",
      "\n",
      "Shortest Distance with vertex 1 as the source:\n",
      "\n",
      "Vertex 0: 0\n",
      "Vertex 1: 0\n",
      "Vertex 2: 0\n",
      "Vertex 3: 0\n",
      "\n",
      "Shortest Distance with vertex 2 as the source:\n",
      "\n",
      "Vertex 0: 3\n",
      "Vertex 1: 3\n",
      "Vertex 2: 0\n",
      "Vertex 3: 0\n",
      "\n",
      "Shortest Distance with vertex 3 as the source:\n",
      "\n",
      "Vertex 0: 3\n",
      "Vertex 1: 3\n",
      "Vertex 2: 3\n",
      "Vertex 3: 0\n",
      "0.0008291000001463544 sec.\n"
     ]
    },
    {
     "data": {
      "image/png": "[encoded data removed]",
      "text/plain": [
       "<Figure size 432x288 with 1 Axes>"
      ]
     },
     "metadata": {},
     "output_type": "display_data"
    }
   ],
   "source": [
    "# Функция импорта для инициализации словаря\n",
    "from collections import defaultdict\n",
    "import networkx as nx\n",
    "import algorithmx\n",
    "import json\n",
    "import timeit\n",
    "import matplotlib.pyplot as plt\n",
    "MAX_INT = float('Inf')\n",
    "# Возвращает вершину с минимумом\n",
    "# расстояние от источника\n",
    "def minDistance(dist, visited):\n",
    "    (minimum, minVertex) = (MAX_INT, 0)\n",
    "    for vertex in range(len(dist)):\n",
    "        if minimum > dist[vertex] and visited[vertex] == False:\n",
    "            (minimum, minVertex) = (dist[vertex], vertex)\n",
    "    return minVertex\n",
    "# Dijkstra Алгоритм для модификации\n",
    "# График (удаление отрицательных весов)\n",
    "def Dijkstra(graph, modifiedGraph, src):\n",
    "    # Количество вершин в графе\n",
    "    num_vertices = len(graph)\n",
    "    # Словарь, чтобы проверить, является ли данная вершина\n",
    "    # уже включен в дерево кратчайшего пути\n",
    "    sptSet = defaultdict(lambda: False)\n",
    "    # Наименьшее расстояние всех вершин от источника\n",
    "    dist = [MAX_INT] * num_vertices\n",
    "    dist[src] = 0\n",
    "    for count in range(num_vertices):\n",
    "        # Текущая вершина, которая находится на минимальном расстоянии\n",
    "        # из источника и еще не включены в\n",
    "        # кратчайший путь\n",
    "        curVertex = minDistance(dist, sptSet)\n",
    "        sptSet[curVertex] = True\n",
    "        for vertex in range(num_vertices):\n",
    "            if ((sptSet[vertex] == False) and\n",
    "                    (dist[vertex] > (dist[curVertex] +\n",
    "                                     modifiedGraph[curVertex][vertex])) and\n",
    "                    (graph[curVertex][vertex] != 0)):\n",
    "                dist[vertex] = (dist[curVertex] +\n",
    "                                modifiedGraph[curVertex][vertex]);\n",
    "    # Распечатать кратчайшее расстояние от источника\n",
    "    for vertex in range(num_vertices):\n",
    "        print('Vertex ' + str(vertex) + ': ' + str(dist[vertex]))\n",
    "# Функция для расчета кратчайшего расстояния от источника\n",
    "# ко всем остальным вершинам, используя алгоритм Беллмана-Форда\n",
    "def BellmanFord(edges, graph, num_vertices):\n",
    "    # Добавить источник s и вычислить его минимум\n",
    "    # расстояние от любого другого узла\n",
    "    dist = [MAX_INT] * (num_vertices + 1)\n",
    "    dist[num_vertices] = 0\n",
    "    for i in range(num_vertices):\n",
    "        edges.append([num_vertices, i, 0])\n",
    "    for i in range(num_vertices):\n",
    "        for (src, des, weight) in edges:\n",
    "            if ((dist[src] != MAX_INT) and\n",
    "                    (dist[src] + weight < dist[des])):\n",
    "                dist[des] = dist[src] + weight\n",
    "    # Не отправлять значение для добавленного источника\n",
    "    return dist[0:num_vertices]\n",
    "# Функция для реализации алгоритма Джонсона\n",
    "def JohnsonAlgorithm(graph):\n",
    "    edges = []\n",
    "    # Создать список ребер для алгоритма Беллмана-Форда\n",
    "    for i in range(len(graph)):\n",
    "        for j in range(len(graph[i])):\n",
    "            if graph[i][j] != 0:\n",
    "                edges.append([i, j, graph[i][j]])\n",
    "    # Веса, используемые для изменения оригинальных весов\n",
    "    modifyWeights = BellmanFord(edges, graph, len(graph))\n",
    "    modifiedGraph = [[0 for x in range(len(graph))] for y in\n",
    "                     range(len(graph))]\n",
    "    # Изменить вес, чтобы избавиться от отрицательных весов\n",
    "    for i in range(len(graph)):\n",
    "        for j in range(len(graph[i])):\n",
    "            if graph[i][j] != 0:\n",
    "                modifiedGraph[i][j] = (graph[i][j] +\n",
    "                                       modifyWeights[i] - modifyWeights[j]);\n",
    "    print('Modified Graph: ' + str(modifiedGraph))\n",
    "    # Запустите Dijkstra для каждой вершины как источник один за другим\n",
    "    for src in range(len(graph)):\n",
    "        print('\\nShortest Distance with vertex ' +\n",
    "              str(src) + ' as the source:\\n')\n",
    "        Dijkstra(graph, modifiedGraph, src)\n",
    "graph = [[0, -5, 2, 3], [5, 0, 4, 0], [7, 0, 0, 1], [3, 0, 0, 0]]\n",
    "start = timeit.default_timer()\n",
    "JohnsonAlgorithm(graph)\n",
    "print(str((timeit.default_timer()-start)) +  \" sec.\")\n",
    "\n",
    "# Создание графа\n",
    "G = nx.DiGraph()\n",
    "for row in graph:\n",
    "    G.add_weighted_edges_from([(row[0], row[1], row[2])])\n",
    "pos = nx.spring_layout(G)\n",
    "nx.draw(G, pos, with_labels = True)"
   ]
  },
  {
   "cell_type": "code",
   "execution_count": null,
   "id": "15ef8b6b",
   "metadata": {},
   "outputs": [],
   "source": []
  }
 ],
 "metadata": {
  "kernelspec": {
   "display_name": "Python 3 (ipykernel)",
   "language": "python",
   "name": "python3"
  },
  "language_info": {
   "codemirror_mode": {
    "name": "ipython",
    "version": 3
   },
   "file_extension": ".py",
   "mimetype": "text/x-python",
   "name": "python",
   "nbconvert_exporter": "python",
   "pygments_lexer": "ipython3",
   "version": "3.9.7"
  }
 },
 "nbformat": 4,
 "nbformat_minor": 5
}
