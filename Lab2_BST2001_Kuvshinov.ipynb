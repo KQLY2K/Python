{
 "cells": [
  {
   "cell_type": "markdown",
   "id": "c9d3db84",
   "metadata": {},
   "source": [
    "Лабораторная работа №2\n",
    "\n",
    "Выполнила студент группы БСТ2001 Кувшинов М.И.\n",
    "\n",
    "Задание №1\n",
    "\n",
    "   Организовать генерацию начального набора случайных данных. Для всех вариантов добавить реализацию добавления, поиска и удаления элементов. Оценить время работы каждого алгоритма поиска и сравнить его со временем работы стандартной функции поиска, используемой в выбранном языке программирования."
   ]
  },
  {
   "cell_type": "code",
   "execution_count": 15,
   "id": "4b3138a3",
   "metadata": {},
   "outputs": [],
   "source": [
    "#Бинарный поиск\n",
    "def binarySearch(a, k): \n",
    "    l = 0\n",
    "    h = len(a)-1\n",
    "    while l <= h:\n",
    "        m = (l + h) // 2\n",
    "        if a[m] == k:\n",
    "            return m\n",
    "        else:\n",
    "            if a[m]>k:\n",
    "                h = m-1\n",
    "            else: \n",
    "                l = m+1\n",
    "    return None\n",
    "\n",
    "def addItemBinarySearch(a, key):\n",
    "    index = binarySearch(a,key)\n",
    "    if index != None and a[index] == key:\n",
    "        print(\"Такой элемент уже существует\")\n",
    "    else: \n",
    "        i = 0\n",
    "        while i<len(a):\n",
    "            if key<a[0]:\n",
    "                a.insert(0,key)    \n",
    "            if key>a[len(a)-1]:\n",
    "                a.insert(len(a),key)    \n",
    "            if key>a[i] and key<a[i+1]:\n",
    "                a.insert(i+1,key)\n",
    "            i+=1\n",
    "    return a\n",
    "\n",
    "def delItemBinSearch(arr,key):\n",
    "    index = binarySearch(arr,key)\n",
    "    if index == None:\n",
    "        print(\"Такой элемент не существует\")\n",
    "    else: \n",
    "        arr.pop(index)\n",
    "    return arr"
   ]
  },
  {
   "cell_type": "code",
   "execution_count": 16,
   "id": "e3f627f2",
   "metadata": {
    "scrolled": true
   },
   "outputs": [
    {
     "name": "stdout",
     "output_type": "stream",
     "text": [
      "10\n",
      "[59, 77, 89, 152, 213, 650, 800, 882, 901, 999]\n"
     ]
    }
   ],
   "source": [
    "import random\n",
    "n = int(input())\n",
    "a = [random.randint(-250, 1010) for i in range(n)]\n",
    "a.sort()\n",
    "print(a)"
   ]
  },
  {
   "cell_type": "code",
   "execution_count": 20,
   "id": "b6f5e2f2",
   "metadata": {
    "scrolled": false
   },
   "outputs": [
    {
     "name": "stdout",
     "output_type": "stream",
     "text": [
      "9\n",
      "Бинарный поиск длится 0.0002343999999538937 сек\n"
     ]
    }
   ],
   "source": [
    "import timeit\n",
    "startTime = timeit.default_timer()\n",
    "print(binarySearch(a, 999))\n",
    "print(\"Бинарный поиск длится \" + str(timeit.default_timer() - startTime) + \" сек\")"
   ]
  },
  {
   "cell_type": "code",
   "execution_count": 18,
   "id": "82818634",
   "metadata": {
    "scrolled": false
   },
   "outputs": [
    {
     "name": "stdout",
     "output_type": "stream",
     "text": [
      "[59, 77, 89, 152, 213, 650, 800, 882, 901, 999, 5000]\n",
      "[59, 77, 89, 152, 213, 650, 800, 882, 901, 999]\n"
     ]
    }
   ],
   "source": [
    "a = addItemBinarySearch(a, 5000)\n",
    "print(a)\n",
    "a = delItemBinSearch(a, 5000)\n",
    "print(a)"
   ]
  },
  {
   "cell_type": "markdown",
   "id": "8ed020f1",
   "metadata": {},
   "source": []
  },
  {
   "cell_type": "code",
   "execution_count": 33,
   "id": "032f7d5e",
   "metadata": {},
   "outputs": [],
   "source": [
    "#Бинарное дерево\n",
    "class Binary:\n",
    "    # конструктор\n",
    "    def __init__(self, key):\n",
    "        self.key = key\n",
    "        self.left = self.right = None\n",
    "           \n",
    "    def insertItem(self, key):\n",
    "        if self.key:\n",
    "            if key < self.key:\n",
    "                if self.left is None:\n",
    "                    self.left = Binary(key)\n",
    "                else:\n",
    "                    self.left.insertItem(key)\n",
    "            elif key >= self.key:\n",
    "                if self.right is None:\n",
    "                    self.right = Binary(key)\n",
    "                else:\n",
    "                    self.right.insertItem(key)\n",
    "        else:\n",
    "            self.key = key\n",
    "    def show(self):\n",
    "        if self.left:\n",
    "            self.left.show()\n",
    "        print( self.key),\n",
    "        if self.right:\n",
    "            self.right.show()\n",
    "    \n",
    "    def searchItem(self,key):\n",
    "        if self.key:\n",
    "            if self.key==key:\n",
    "                print(\"Элемент найден\")\n",
    "                return \n",
    "            if key< self.key:\n",
    "                if self.left is None:\n",
    "                    print(\"Элемент не найден\")\n",
    "                    return\n",
    "                self.left.searchItem(key)\n",
    "            else:\n",
    "                if self.right is None:\n",
    "                    print(\"Элемент не найден\")\n",
    "                    return\n",
    "                self.right.searchItem(key)\n",
    "        else:\n",
    "            print(\"Дерево пустое\")\n",
    "    def deleteItem(self,key):\n",
    "        if self.key:\n",
    "            if key < self.key:\n",
    "                self.left = self.left.deleteItem(key)\n",
    "            elif key > self.key:\n",
    "                self.right = self.right.deleteItem(key)\n",
    "            elif self.left != None and self.right != None:\n",
    "                self.key = min(self.right).key\n",
    "                self.right = self.right.deleteItem(self.key)\n",
    "            else:\n",
    "                if self.left != None:\n",
    "                    self = self.left\n",
    "                elif self.right != None:\n",
    "                    self = self.right\n",
    "                else:\n",
    "                    self = None\n",
    "        return self"
   ]
  },
  {
   "cell_type": "code",
   "execution_count": 41,
   "id": "f5fae9fa",
   "metadata": {},
   "outputs": [
    {
     "name": "stdout",
     "output_type": "stream",
     "text": [
      "-88\n",
      "-6\n",
      "5\n",
      "7\n",
      "53\n",
      "100\n",
      "\n",
      "Элемент найден\n",
      "-88\n",
      "-6\n",
      "5\n",
      "7\n",
      "53\n",
      "100\n",
      "\n",
      "-88\n",
      "-6\n",
      "5\n",
      "53\n",
      "100\n"
     ]
    }
   ],
   "source": [
    "Wood = Binary(5)\n",
    "Wood.insertItem(-6)\n",
    "Wood.insertItem(7)\n",
    "Wood.insertItem(53)\n",
    "Wood.insertItem(-88)\n",
    "Wood.insertItem(100)\n",
    "\n",
    "Wood.show()\n",
    "print()\n",
    "Wood.searchItem(53)\n",
    "Wood.show()\n",
    "print()\n",
    "Wood.deleteItem(7)\n",
    "Wood.show()"
   ]
  },
  {
   "cell_type": "code",
   "execution_count": 42,
   "id": "f5fb7ce8",
   "metadata": {},
   "outputs": [],
   "source": [
    "#Фибоначчиев поиск\n",
    "def fibSearch(arr,key):\n",
    "    f1=0\n",
    "    f2=1\n",
    "    summa = 0\n",
    "    # пока числа фибоначчи не выходят за пределы массива и пока ключ больше элемента в массиве\n",
    "    while summa<len(arr) and key>=arr[summa]:\n",
    "        # если они равны - элемент найден\n",
    "        if arr[summa]==key:\n",
    "            #print(\"Элемент найден\")\n",
    "            return 1\n",
    "        # находим следующее число фибоначчи\n",
    "        summa = f1+f2\n",
    "        f1=f2\n",
    "        f2=summa\n",
    "    # если массив чисел стал из одного элемента - то значение ключа не найдено\n",
    "    if summa==f1:\n",
    "        #print(\"Элемент не найден\")\n",
    "        return None\n",
    "    # если число фибоначчи выходит за границы массива то верхней границей для промежутка становится индекс последнего элемента\n",
    "    if summa>len(arr):\n",
    "        summa = len(arr)\n",
    "    i=0\n",
    "    # не включаю нижнюю границу\n",
    "    j=f1+1\n",
    "    newArr = [0]*(summa-f1-1)\n",
    "    # заполняю новый массив элементами из промежутка между двумя числами фибоначчи/ либо между числом и границей массива\n",
    "    while j>f1 and j< summa:       \n",
    "        newArr[i] = arr[j]\n",
    "        j+=1\n",
    "        i+=1\n",
    "    # в новом промежутке снова вызываю функцию   \n",
    "    index = fibSearch(newArr,key)\n",
    "    if index:\n",
    "        return index    \n",
    "\n",
    "def addItemFibSearch(arr, key):\n",
    "    index = fibSearch(arr,key)\n",
    "    if index != None and arr[index] == key:\n",
    "        print(\"Такой элемент уже существует\")\n",
    "    else: \n",
    "        i = 0\n",
    "        while i<len(arr):\n",
    "            # Если вставляемый элемент меньше первого, сделать его первым\n",
    "            if key<arr[0]:\n",
    "                arr.insert(0,key)\n",
    "            # Если вставляемый элемент больше последнего, сделать его последним    \n",
    "            if key>arr[len(arr)-1]:\n",
    "                arr.insert(len(arr),key)\n",
    "            # находит такое место, где предыдущий элемент меньше вставляемого, а следующий больше    \n",
    "            if key>arr[i] and key<arr[i+1]:\n",
    "                arr.insert(i+1,key)\n",
    "            i+=1\n",
    "    return arr\n",
    "\n",
    "def delItemFibSearch(arr,key):\n",
    "    index = fibSearch(arr,key)\n",
    "    if index:\n",
    "        for m in range(len(arr)):\n",
    "            if key == arr[m]:\n",
    "                arr.pop(m)\n",
    "                return arr\n",
    "        \n",
    "    else:\n",
    "        print(\"Такого элемента не существует\")\n",
    "    return arr"
   ]
  },
  {
   "cell_type": "code",
   "execution_count": 43,
   "id": "2398dc39",
   "metadata": {},
   "outputs": [
    {
     "name": "stdout",
     "output_type": "stream",
     "text": [
      "10\n",
      "[-228, -99, 195, 376, 391, 423, 477, 745, 751, 932]\n"
     ]
    }
   ],
   "source": [
    "import random\n",
    "n=int(input())\n",
    "ArrayFib = [random.randint(-250, 1010) for i in range(n)]\n",
    "ArrayFib.sort()\n",
    "print(ArrayFib)"
   ]
  },
  {
   "cell_type": "code",
   "execution_count": 45,
   "id": "54766ffb",
   "metadata": {},
   "outputs": [
    {
     "name": "stdout",
     "output_type": "stream",
     "text": [
      "1\n",
      "Фибоначчиев длится 0.00023210000017570565 сек\n"
     ]
    }
   ],
   "source": [
    "import timeit\n",
    "startTime = timeit.default_timer()\n",
    "print(fibSearch(ArrayFib,932))\n",
    "print(\"Фибоначчиев длится \" + str(timeit.default_timer() - startTime) + \" сек\")"
   ]
  },
  {
   "cell_type": "code",
   "execution_count": 46,
   "id": "b4145964",
   "metadata": {},
   "outputs": [
    {
     "name": "stdout",
     "output_type": "stream",
     "text": [
      "[-228, -99, 195, 376, 391, 423, 477, 745, 751, 932, 5000]\n"
     ]
    }
   ],
   "source": [
    "ArrayFib = addItemFibSearch(ArrayFib, 5000)\n",
    "print(ArrayFib)"
   ]
  },
  {
   "cell_type": "code",
   "execution_count": 47,
   "id": "487aef07",
   "metadata": {},
   "outputs": [
    {
     "name": "stdout",
     "output_type": "stream",
     "text": [
      "[-228, -99, 195, 376, 391, 423, 477, 745, 751, 932]\n"
     ]
    }
   ],
   "source": [
    "ArrayFib = delItemFibSearch(ArrayFib, 5000)\n",
    "print(ArrayFib)"
   ]
  },
  {
   "cell_type": "code",
   "execution_count": 54,
   "id": "e7cc873f",
   "metadata": {},
   "outputs": [],
   "source": [
    "#Интерполяционный поиск\n",
    "def interpolationSearch(arr, key):\n",
    "    low = 0\n",
    "    high = len(arr)-1\n",
    "    while low <= high and arr[low] <= key and key <= arr[high]:\n",
    "        middle = low+((key-arr[low])*(high-low)//(arr[high]-arr[low]))\n",
    "        if arr[middle]==key:\n",
    "            return middle  \n",
    "        elif arr[middle]<key: \n",
    "            low = middle+1\n",
    "        else:\n",
    "             high = middle-1\n",
    "                      \n",
    "    return None\n",
    "def addItemInterpolationSearch(arr, key):\n",
    "    index = interpolationSearch(arr,key)\n",
    "    if index != None and arr[index] == key:\n",
    "        print(\"Такой элемент уже существует\")\n",
    "    else: \n",
    "        i = 0\n",
    "        while i<len(arr):\n",
    "            if key<arr[0]:\n",
    "                arr.insert(0,key)   \n",
    "            if key>arr[len(arr)-1]:\n",
    "                arr.insert(len(arr),key)  \n",
    "            if key>arr[i] and key<arr[i+1]:\n",
    "                arr.insert(i+1,key)\n",
    "            i+=1\n",
    "    return arr\n",
    "\n",
    "def deleteItemInterpolationSearch(arr,key):\n",
    "    index = interpolationSearch(arr,key)\n",
    "    if index == None:\n",
    "        print(\"Такой элемент не существует\")\n",
    "    else: \n",
    "        arr.pop(index)\n",
    "    return arr"
   ]
  },
  {
   "cell_type": "code",
   "execution_count": 49,
   "id": "6f6819b3",
   "metadata": {},
   "outputs": [
    {
     "name": "stdout",
     "output_type": "stream",
     "text": [
      "10\n",
      "[-242, -201, -176, -106, 98, 339, 385, 487, 768, 931]\n"
     ]
    }
   ],
   "source": [
    "import random\n",
    "n=int(input())\n",
    "b = [random.randint(-250, 1010) for i in range(n)]\n",
    "b.sort()\n",
    "print(b)"
   ]
  },
  {
   "cell_type": "code",
   "execution_count": 51,
   "id": "3a571717",
   "metadata": {},
   "outputs": [
    {
     "name": "stdout",
     "output_type": "stream",
     "text": [
      "9\n",
      "Интерполяционный длится 0.0004521000000750064 сек\n"
     ]
    }
   ],
   "source": [
    "import timeit\n",
    "startTime = timeit.default_timer()\n",
    "print(interpolationSearch(b, 931))\n",
    "print(\"Интерполяционный длится \" + str(timeit.default_timer() - startTime) + \" сек\")"
   ]
  },
  {
   "cell_type": "code",
   "execution_count": 55,
   "id": "ea335ab9",
   "metadata": {},
   "outputs": [
    {
     "name": "stdout",
     "output_type": "stream",
     "text": [
      "[-242, -201, -176, -106, 98, 339, 385, 487, 768, 931, 5000]\n",
      "[-242, -201, -176, -106, 98, 339, 385, 487, 768, 931]\n"
     ]
    }
   ],
   "source": [
    "b = addItemInterpolationSearch(b, 5000)\n",
    "print(b)\n",
    "b = deleteItemInterpolationSearch(b,5000)\n",
    "print(b)"
   ]
  },
  {
   "cell_type": "markdown",
   "id": "a47939d4",
   "metadata": {},
   "source": [
    "Задание №2"
   ]
  },
  {
   "cell_type": "code",
   "execution_count": 4,
   "id": "b9aa9397",
   "metadata": {},
   "outputs": [],
   "source": [
    "#Простое рехеширование\n",
    "class Rehash:\n",
    "    \n",
    "    def __init__(self):\n",
    "        self.data = [None]*64\n",
    "        \n",
    "    def _hash(self, key,i):\n",
    "        return (hash(key)+i)%(2**4) \n",
    "    \n",
    "    def addItemHash(self,key):\n",
    "        i=0\n",
    "        while self.data[self._hash(key,i)] != None and i<len(self.data):\n",
    "            i+=1\n",
    "        self.data[self._hash(key,i)] = key\n",
    "        return self.data\n",
    "    \n",
    "    def searchHash(self,key):\n",
    "        i=0\n",
    "        while self.data[self._hash(key,i)] != None and i<len(self.data):\n",
    "            if self.data[self._hash(key,i)] == key:\n",
    "                return 1\n",
    "            i+=1\n",
    "\n",
    "        return 0\n",
    "\n",
    "    def deleteItemHash(self,key):\n",
    "        i=0\n",
    "        while self.data[self._hash(key,i)] != None and i<len(self.data):\n",
    "            if self.data[self._hash(key,i)] == key:\n",
    "                self.data.pop(self._hash(key,i))\n",
    "                return self.data\n",
    "            i+=1\n",
    "        print(\"Такого элемента нет\")"
   ]
  },
  {
   "cell_type": "code",
   "execution_count": 5,
   "id": "a2624d7e",
   "metadata": {},
   "outputs": [
    {
     "data": {
      "text/plain": [
       "[None,\n",
       " None,\n",
       " None,\n",
       " None,\n",
       " None,\n",
       " None,\n",
       " 'Bucks',\n",
       " None,\n",
       " None,\n",
       " None,\n",
       " None,\n",
       " None,\n",
       " 'Euro',\n",
       " None,\n",
       " None,\n",
       " None,\n",
       " None,\n",
       " None,\n",
       " None,\n",
       " None,\n",
       " None,\n",
       " None,\n",
       " None,\n",
       " None,\n",
       " None,\n",
       " None,\n",
       " None,\n",
       " None,\n",
       " None,\n",
       " None,\n",
       " None,\n",
       " None,\n",
       " None,\n",
       " None,\n",
       " None,\n",
       " None,\n",
       " None,\n",
       " None,\n",
       " None,\n",
       " None,\n",
       " None,\n",
       " None,\n",
       " None,\n",
       " None,\n",
       " None,\n",
       " None,\n",
       " None,\n",
       " None,\n",
       " None,\n",
       " None,\n",
       " None,\n",
       " None,\n",
       " None,\n",
       " None,\n",
       " None,\n",
       " None,\n",
       " None,\n",
       " None,\n",
       " None,\n",
       " None,\n",
       " None,\n",
       " None,\n",
       " None]"
      ]
     },
     "execution_count": 5,
     "metadata": {},
     "output_type": "execute_result"
    }
   ],
   "source": [
    "SimpleRehash = Rehash()\n",
    "SimpleRehash.addItemHash(\"Bucks\")\n",
    "SimpleRehash.addItemHash(\"Euro\")\n",
    "SimpleRehash.addItemHash(\"Rubles\")\n",
    "SimpleRehash.searchHash(\"Bucks\")\n",
    "SimpleRehash.deleteItemHash(\"Rubles\")"
   ]
  },
  {
   "cell_type": "code",
   "execution_count": 7,
   "id": "5a8ef408",
   "metadata": {},
   "outputs": [],
   "source": [
    "#Рехеширование с помощью псевдослучайных чисел\n",
    "class randHash(Rehash):\n",
    "    def __init__(self):\n",
    "        self.data = [None]*64\n",
    "    \n",
    "    def randNumbers(self,i):\n",
    "        R=[5]\n",
    "        if len(R) - 1 < i:\n",
    "            R.append(self.randNumbers(i - 1))\n",
    "        return (8255 * R[i] + 239) % 64\n",
    "    \n",
    "    def _hash(self, key,i):\n",
    "        return (hash(key)+self.randNumbers(i))%(2**4)"
   ]
  },
  {
   "cell_type": "code",
   "execution_count": 9,
   "id": "7ec75047",
   "metadata": {},
   "outputs": [
    {
     "data": {
      "text/plain": [
       "[None,\n",
       " None,\n",
       " None,\n",
       " None,\n",
       " None,\n",
       " '3',\n",
       " None,\n",
       " None,\n",
       " None,\n",
       " None,\n",
       " None,\n",
       " None,\n",
       " None,\n",
       " '1',\n",
       " None,\n",
       " None,\n",
       " None,\n",
       " None,\n",
       " None,\n",
       " None,\n",
       " None,\n",
       " None,\n",
       " None,\n",
       " None,\n",
       " None,\n",
       " None,\n",
       " None,\n",
       " None,\n",
       " None,\n",
       " None,\n",
       " None,\n",
       " None,\n",
       " None,\n",
       " None,\n",
       " None,\n",
       " None,\n",
       " None,\n",
       " None,\n",
       " None,\n",
       " None,\n",
       " None,\n",
       " None,\n",
       " None,\n",
       " None,\n",
       " None,\n",
       " None,\n",
       " None,\n",
       " None,\n",
       " None,\n",
       " None,\n",
       " None,\n",
       " None,\n",
       " None,\n",
       " None,\n",
       " None,\n",
       " None,\n",
       " None,\n",
       " None,\n",
       " None,\n",
       " None,\n",
       " None,\n",
       " None,\n",
       " None]"
      ]
     },
     "execution_count": 9,
     "metadata": {},
     "output_type": "execute_result"
    }
   ],
   "source": [
    "Digital = randHash()\n",
    "Digital.addItemHash(\"1\")\n",
    "Digital.addItemHash(\"2\")\n",
    "Digital.addItemHash(\"3\")\n",
    "Digital.searchHash(\"2\")\n",
    "Digital.deleteItemHash(\"2\")"
   ]
  },
  {
   "cell_type": "code",
   "execution_count": 11,
   "id": "75147056",
   "metadata": {},
   "outputs": [],
   "source": [
    "#Метод цепочек\n",
    "class Chain:\n",
    "    def __init__(self):\n",
    "        \n",
    "        self.data = [None]*64\n",
    "    \n",
    "    \n",
    "    def _hash(self,key):\n",
    "        return hash(key)%(2**4)\n",
    "    \n",
    "    def addItemChain(self, index, key):\n",
    "\n",
    "        if self.data[index] is None:\n",
    "            self.data[index] = [key]\n",
    "            print(\"элемент добавлен\")\n",
    "            return 1\n",
    "        else:\n",
    "            for i, item in enumerate(self.data[index]):\n",
    "                if item == key:\n",
    "                    self.data[index][i] = key\n",
    "                    print(\"элемент не добавлен\")\n",
    "                    return 0\n",
    "            self.data[index].append(key)\n",
    "            print(\"элемент добавлен\")\n",
    "            return 1\n",
    "    \n",
    "    def searchChain(self,index,item):\n",
    "        if self.data[index] is not None:\n",
    "            if self.data[index] == [item]:\n",
    "                print(\"Элемент найден\")\n",
    "                return 1\n",
    "            else:\n",
    "                for i, item_ in enumerate(self.data[index]):\n",
    "                    if self.data[index][i] == item:\n",
    "                        print(\"Элемент найден\")\n",
    "                        return 1\n",
    "        else:\n",
    "            print(\"Элемент не найден\")\n",
    "            return 0\n",
    "        \n",
    "    def deleteItemChain(self,index,item):\n",
    "        if self.data[index] is not None:\n",
    "            if self.data[index] == [item]:\n",
    "                self.data[index] = None\n",
    "                print(\"Элемент удален\")\n",
    "                return 1\n",
    "            else:\n",
    "                for i, item_ in enumerate(self.data[index]):\n",
    "                    if self.data[index][i] == item:\n",
    "                        self.data[index].pop(i)\n",
    "                        print(\"Элемент удален\")\n",
    "                        return 1\n",
    "        else:\n",
    "\n",
    "            return 0"
   ]
  },
  {
   "cell_type": "code",
   "execution_count": 13,
   "id": "0633fa91",
   "metadata": {},
   "outputs": [
    {
     "name": "stdout",
     "output_type": "stream",
     "text": [
      "элемент добавлен\n",
      "элемент добавлен\n",
      "элемент добавлен\n",
      "Элемент найден\n",
      "Элемент удален\n"
     ]
    },
    {
     "data": {
      "text/plain": [
       "1"
      ]
     },
     "execution_count": 13,
     "metadata": {},
     "output_type": "execute_result"
    }
   ],
   "source": [
    "Digital = Chain()\n",
    "Digital.addItemChain(Digital._hash(\"1\"),\"1\")\n",
    "Digital.addItemChain(Digital._hash(\"2\"),\"2\")\n",
    "Digital.addItemChain(Digital._hash(\"3\"),\"3\")\n",
    "Digital.searchChain(Digital._hash(\"1\"),\"1\")\n",
    "Digital.deleteItemChain(Digital._hash(\"1\"),\"1\")"
   ]
  },
  {
   "cell_type": "markdown",
   "id": "3f604f0f",
   "metadata": {},
   "source": [
    "Задание №3"
   ]
  },
  {
   "cell_type": "code",
   "execution_count": 18,
   "id": "5d010e87",
   "metadata": {},
   "outputs": [],
   "source": [
    "def Checking(i,j,Queens): #Проверка поля\n",
    "    r=i\n",
    "    c=j\n",
    "    #В столбце\n",
    "    for k in range(i):\n",
    "        if j == Queens[k]:\n",
    "            return False\n",
    "    #По убывающей диагонали    \n",
    "    while i>=0 and j>=0:\n",
    "        if Queens[i]==j:\n",
    "            return False\n",
    "        i-=1\n",
    "        j-=1\n",
    "    #По возрастающей диагонали    \n",
    "    while r>=0 and c<=14:\n",
    "        if Queens[r]==c:\n",
    "            return False\n",
    "        r-=1\n",
    "        c+=1    \n",
    "    return True\n",
    "# Queens - массив, в котором индекс это строка, значение это столбец, где стоит ферзь\n",
    "def findSol(Queens=[0]*15, i=0):\n",
    "    # Если на доске уже 8 ферзей, то рекурсия останавливается\n",
    "    if i ==15:\n",
    "        arr = [[0 for i in range(15)] for j in range(15)]\n",
    "        for i in range(15):\n",
    "            for j in range(15):\n",
    "                arr[i][Queens[i]] = 1\n",
    "        print(Queens)\n",
    "        return arr\n",
    "    else:\n",
    "        for j in range(15):\n",
    "            #Проверка поля\n",
    "            if Checking(i,j,Queens):\n",
    "                #Если да, записываем координату ферзя \n",
    "                Queens[i]=j\n",
    "                #Снова вызываем функцию со следующей строки\n",
    "                chessBoard = findSol(Queens,i+1)\n",
    "                #Если переменная не пустая, выходим в предыдующую функцию с этой перемееной\n",
    "                if chessBoard:\n",
    "                    return chessBoard"
   ]
  },
  {
   "cell_type": "code",
   "execution_count": 19,
   "id": "18a5080d",
   "metadata": {},
   "outputs": [
    {
     "name": "stdout",
     "output_type": "stream",
     "text": [
      "[1, 3, 5, 2, 9, 14, 10, 13, 4, 0, 7, 11, 6, 8, 12]\n"
     ]
    },
    {
     "data": {
      "text/plain": [
       "[[0, 1, 0, 0, 0, 0, 0, 0, 0, 0, 0, 0, 0, 0, 0],\n",
       " [0, 0, 0, 1, 0, 0, 0, 0, 0, 0, 0, 0, 0, 0, 0],\n",
       " [0, 0, 0, 0, 0, 1, 0, 0, 0, 0, 0, 0, 0, 0, 0],\n",
       " [0, 0, 1, 0, 0, 0, 0, 0, 0, 0, 0, 0, 0, 0, 0],\n",
       " [0, 0, 0, 0, 0, 0, 0, 0, 0, 1, 0, 0, 0, 0, 0],\n",
       " [0, 0, 0, 0, 0, 0, 0, 0, 0, 0, 0, 0, 0, 0, 1],\n",
       " [0, 0, 0, 0, 0, 0, 0, 0, 0, 0, 1, 0, 0, 0, 0],\n",
       " [0, 0, 0, 0, 0, 0, 0, 0, 0, 0, 0, 0, 0, 1, 0],\n",
       " [0, 0, 0, 0, 1, 0, 0, 0, 0, 0, 0, 0, 0, 0, 0],\n",
       " [1, 0, 0, 0, 0, 0, 0, 0, 0, 0, 0, 0, 0, 0, 0],\n",
       " [0, 0, 0, 0, 0, 0, 0, 1, 0, 0, 0, 0, 0, 0, 0],\n",
       " [0, 0, 0, 0, 0, 0, 0, 0, 0, 0, 0, 1, 0, 0, 0],\n",
       " [0, 0, 0, 0, 0, 0, 1, 0, 0, 0, 0, 0, 0, 0, 0],\n",
       " [0, 0, 0, 0, 0, 0, 0, 0, 1, 0, 0, 0, 0, 0, 0],\n",
       " [0, 0, 0, 0, 0, 0, 0, 0, 0, 0, 0, 0, 1, 0, 0]]"
      ]
     },
     "execution_count": 19,
     "metadata": {},
     "output_type": "execute_result"
    }
   ],
   "source": [
    "findSol()"
   ]
  },
  {
   "cell_type": "code",
   "execution_count": null,
   "id": "e44ee1b3",
   "metadata": {},
   "outputs": [],
   "source": []
  }
 ],
 "metadata": {
  "kernelspec": {
   "display_name": "Python 3 (ipykernel)",
   "language": "python",
   "name": "python3"
  },
  "language_info": {
   "codemirror_mode": {
    "name": "ipython",
    "version": 3
   },
   "file_extension": ".py",
   "mimetype": "text/x-python",
   "name": "python",
   "nbconvert_exporter": "python",
   "pygments_lexer": "ipython3",
   "version": "3.9.7"
  }
 },
 "nbformat": 4,
 "nbformat_minor": 5
}
